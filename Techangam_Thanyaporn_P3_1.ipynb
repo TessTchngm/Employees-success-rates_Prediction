{
 "cells": [
  {
   "cell_type": "markdown",
   "id": "c6194484",
   "metadata": {},
   "source": [
    "# Table of Content: <a class=\"anchor\" id=\"table-of-content\"></a>\n",
    "* [1. Problem Background and Motivation](#problem-background)\n",
    "* [2. Defining goals](#defining-goals)\n",
    "* [3. Libraries and Custom Functions](#import-packages)\n",
    "* [4. Data Exploration/Prep](#data-prep)\n",
    "* [5. Machine Learning Model](#ml-model)\n",
    "* [6. Deployment of Model](#model-deployment)"
   ]
  },
  {
   "cell_type": "markdown",
   "id": "d62fd63e",
   "metadata": {},
   "source": [
    "# 1. Problem Background and Motivation <a class=\"anchor\" id=\"problem-background\"></a>\n",
    "\n",
    "   Human resources is an important department for businesses of all sizes and across all industries. In this department, professionals manage the concerns and needs that relate to the human capital of the organization, or the people who work for the business. One of their responsibilities includes maintaining the company profit. With that, in each employee's assigned tasks, if they could find a way to predict whether employee will complete the task that has been given to or not, it will make their work so much easier. To be able to see the prediction using one's period of experience and training level, HR can make better decisions about team assignments which will maximize their objective of preserving company benefit.\n",
    "    \n",
    "#### References :\n",
    "https://www.indeed.com/career-advice/finding-a-job/what-does-human-resources-do\n",
    "\n",
    "<img src='https://th.bing.com/th/id/R.fe1b03446606a2721665b248eab2ea83?rik=dvp%2fM%2bw8nXZThw&pid=ImgRaw&r=0' />\n",
    "\n",
    "#### Questions to think about after doing the research about cars and before doing all the rest regarding predictive model that has to be answered first:\n",
    "\n",
    "- How many data (in each relevant feature) should I gather? How many of them considering enough?\n",
    "- How long it should take to conduct a model? Timeframe?\n",
    "- Where can I find relevant raw data and collect them to perform a model from ML? How reliable they are? \n",
    "- How many features should I collect? Will these features represents all the characteristics using in prediction?\n",
    "- If self-gathering data is required, should I collect them through interviewing with HR department? How many companies should I reach out for interview to collect data?  What are criterias I need to use for choosing the right companies to interview and collect data? \n",
    "- Should I hire outsources to lessen the time? if so, What are the costs if there is no trace in the internet? How can I contact those company? How can I make them agree to answer these information? \n",
    "\n",
    "[Go to Top](#table-of-content)"
   ]
  },
  {
   "cell_type": "markdown",
   "id": "f6ccd742",
   "metadata": {},
   "source": [
    "# 2. Defining goals <a class=\"anchor\" id=\"defining-goals\"></a>\n",
    "\n",
    ">**- Who are the key stakeholders?**<br>\n",
    "> Companies who interest in optimizing their productivity by having human resource department which can assign a proper tasks to employee. \n",
    "\n",
    ">**- who would be interested in this analysis?**<br>\n",
    "> Human resource department that wants to predict employee's task completion rate to help reserve company's interest. \n",
    " \n",
    "<span style=\"color:red\"><b>**MAKE SURE** to check limitations or challenges before working on buding model such as laws, data ownership, the availability of data and so on.</b></span>\n",
    "\n",
    "[Go to Top](#table-of-content)"
   ]
  },
  {
   "cell_type": "markdown",
   "id": "6fddf1df",
   "metadata": {},
   "source": [
    "### Future references use:\n",
    "<span style=\"color:orange\"><b>NOTE: Incase my datatable needs to merge or combine to other tables! [Read this link to do so (:](https://jakevdp.github.io/PythonDataScienceHandbook/03.07-merge-and-join.html#:~:text=To%20combine%20this%20information%20into%20a%20single%20DataFrame%2C,automatically%20joins%20using%20this%20column%20as%20a%20key.)</b></span>\n",
    "\n",
    "#### First things to do when decided to build a model!!!\n",
    "\n",
    " **1. Import pandas:** [What is pandas and how to use it](https://www.w3schools.com/python/pandas/pandas_intro.asp)\n",
    " \n",
    " **- remember to shorten the words by 'as' to help make things easier!**\n",
    " \n",
    " **2. Use SKLearn:** [What is SKLearn?](https://scikit-learn.org/stable/getting_started.html)\n",
    " \n",
    " **3. Decide which Linear model to use:** [LogisticRegression and when to use it](https://realpython.com/linear-regression-in-python/#what-is-regression) **<span style=\"color:red\"><b>(Frequently use! to predict target variable(y) including this heart disease prediction model!!!)</b></span>**\n",
    "| [OLS and when to use it ](https://scikit-learn.org/stable/modules/linear_model.html#ordinary-least-squares)| [other model functions and when to use them](https://scikit-learn.org/stable/modules/linear_model.html#)\n",
    "\n",
    " **4. Import numpy:** [What is numpy and how to use it ](https://www.educba.com/what-is-numpy/)\n",
    " \n",
    " **5. Import math:** [Which functions are available](https://www.w3schools.com/python/python_math.asp) \n",
    " \n",
    " **6. Import seaborn:** [What visualizations can we utilize in seaborn](https://www.analyticsvidhya.com/blog/2019/09/comprehensive-data-visualization-guide-seaborn-python/#:~:text=Seaborn%20is%20an%20amazing%20Python%20visualization%20library%20built,or%20trends%20that%20might%20not%20be%20obvious%20initially.)\n",
    " \n",
    " **7. Import matplotlib.pyplot:** [matplotlip cheat sheet](https://matplotlib.org/cheatsheets/_images/cheatsheets-1.png)\n",
    " \n",
    " **8. Plotly:** [What is plotly and what can plotly do](https://plotly.com/python/plotly-express/)\n",
    " \n",
    " **9: statsmodels:** [What is statsmodels](https://www.statsmodels.org/stable/)"
   ]
  },
  {
   "cell_type": "markdown",
   "id": "f1bf0c58",
   "metadata": {},
   "source": [
    "# 3. Libraries & Custom Functions <a class=\"anchor\" id=\"import-packages\"></a>\n",
    "* [Go to Top](#table-of-content)"
   ]
  },
  {
   "cell_type": "code",
   "execution_count": 41,
   "id": "c6d49c61",
   "metadata": {},
   "outputs": [],
   "source": [
    "import pandas as pd                                                    # Doing this to import \"pandas\" which is one of the \n",
    "                                                                       # python packages and shorten it as \"pd\" word to read \n",
    "                                                                       # + manage + analyze my data.\n",
    "pd.set_option('display.max_columns', None)                             # helping to see everything!\n",
    "pd.options.display.float_format = '{:.2f}'.format                      # for removing the scientific sign!\n",
    "import numpy as np                                                     # Importing this to help generating numerical value.\n",
    "\n",
    "# Graphics\n",
    "import seaborn as sns                                                  # Importing all these python visualizations to help \n",
    "                                                                       # with the interpretation! \n",
    "import matplotlib.pyplot as plt\n",
    "import plotly.graph_objects as go\n",
    "\n",
    "# ML\n",
    "from sklearn.model_selection import train_test_split                   # \"SKLEARN\" is a Machine learning library in python.  \n",
    "                                                                       # It helps to create a model we are interesting in \n",
    "                                                                       # doing predictive data analysis.\n",
    "                                                                       # Extracting train_test_split to help ML model.\n",
    "from sklearn.linear_model import LogisticRegression                    # Extracting Logistic Regression model function from \n",
    "                                                                       # linear model which is a class from the sklearn\n",
    "                                                                       # library to build a desire model used to estimate\n",
    "                                                                       # discrete values (binary values like 0/1, yes/no, \n",
    "                                                                       # true/false)\n",
    "from sklearn.neighbors import NearestNeighbors, KNeighborsClassifier   # Extracting KNN algorithm uses proximity to make \n",
    "                                                                       # classifications or predictions about the grouping \n",
    "                                                                       # of an individual data point.\n",
    "from sklearn import metrics                                            # Extractin metrics from sklearn to evaluate your \n",
    "                                                                       # machine learning algorithms.\n",
    "from sklearn.metrics import mean_absolute_error, mean_squared_error    # Extracting MSE from metrics in sklearn to check \n",
    "                                                                       # which threshold to pick by having low value of MSE\n",
    "\n",
    "import pickle                                                          # \"Pickle\" is a library to help keeping an object in Python as  \n",
    "                                                                       # a file form by changing it into Byte Stream and convert back to \n",
    "                                                                       # the same object when wanting to use it again (Object Serialisation).\n",
    "        \n",
    "                                                                       # This helps making the data less complicated to use.\n",
    "# Custom function below is used to display performance measures\n",
    "# Required inputs are the model name and the two test data objects (X,y)\n",
    "def class_perf_measures(model,X_test,y_test):\n",
    "    # Create empty lists to store metric values created within loop\n",
    "    TP = []\n",
    "    TN = []\n",
    "    FP = []\n",
    "    FN = []\n",
    "    recall = []\n",
    "    precision = []\n",
    "    F1 = []\n",
    "    Accuracy = []\n",
    "    MSE = []\n",
    "    \n",
    "    # Create list of probability threshold values to loop over\n",
    "    threshold = np.arange(0,1.1,0.1).tolist()\n",
    "\n",
    "    # Start loop\n",
    "    for i in threshold:\n",
    "\n",
    "        # Create class assignments given threshold value\n",
    "        y_test_pred_class = (model.predict_proba(X_test)[:,1] >= i).astype(int)\n",
    "\n",
    "        # Append lists with metric values\n",
    "        TP.append(metrics.confusion_matrix(y_test, y_test_pred_class)[1,1])\n",
    "        TN.append(metrics.confusion_matrix(y_test, y_test_pred_class)[0,0])\n",
    "        FP.append(metrics.confusion_matrix(y_test, y_test_pred_class)[0,1])\n",
    "        FN.append(metrics.confusion_matrix(y_test, y_test_pred_class)[1,0])\n",
    "        recall.append(metrics.recall_score(y_test, y_test_pred_class).round(3))\n",
    "        precision.append(metrics.precision_score(y_test, y_test_pred_class).round(3))\n",
    "        F1.append(metrics.f1_score(y_test, y_test_pred_class).round(2))\n",
    "        Accuracy.append(metrics.accuracy_score(y_test, y_test_pred_class).round(2))\n",
    "        MSE.append(mean_squared_error(y_test, y_test_pred_class).round(2))\n",
    "\n",
    "    # Create dataframe\n",
    "    result = pd.DataFrame({\"threshold\":threshold,\n",
    "                           \"TP\":TP,\n",
    "                           \"TN\":TN,\n",
    "                           \"FP\":FP,\n",
    "                           \"FN\":FN,\n",
    "                           \"Precision\":precision,\n",
    "                           \"Recall\":recall,\n",
    "                           \"Accuracy\": Accuracy,\n",
    "                           \"MSE\": MSE\n",
    "                          })\n",
    "\n",
    "    # Let's look at our dataframe\n",
    "    return result\n",
    "\n"
   ]
  },
  {
   "cell_type": "code",
   "execution_count": 42,
   "id": "74b237b0",
   "metadata": {},
   "outputs": [],
   "source": [
    "# to avoid warning\n",
    "import warnings\n",
    "warnings.filterwarnings('ignore')"
   ]
  },
  {
   "cell_type": "markdown",
   "id": "c00840ae",
   "metadata": {},
   "source": [
    "# 4. Data Exploration/Prep <a class=\"anchor\" id=\"data-prep\"></a>\n",
    "* [Go to Top of Notebook](#table-of-content)"
   ]
  },
  {
   "cell_type": "markdown",
   "id": "8f3c16ec",
   "metadata": {},
   "source": [
    "- [X] [Initial Evaluation](#initial-evaluation)\n",
    "- [X] [Initial Cleanup - dupes, missing values](#missing-values)\n",
    "- [X] [Outlier Detection & Treatment](#outliers)\n",
    "- [X] [Feature Selection](#feature-selection)\n",
    "- [X] [Data Partitioning](#data-split)\n",
    "- [X] [Data Normalization](#normalization)"
   ]
  },
  {
   "cell_type": "markdown",
   "id": "96558945",
   "metadata": {},
   "source": [
    "> **Initial Evaluation** <a class=\"anchor\" id=\"initial-evaluation\"></a>"
   ]
  },
  {
   "cell_type": "code",
   "execution_count": 43,
   "id": "d75f3fcf",
   "metadata": {
    "scrolled": false
   },
   "outputs": [
    {
     "data": {
      "text/html": [
       "<div>\n",
       "<style scoped>\n",
       "    .dataframe tbody tr th:only-of-type {\n",
       "        vertical-align: middle;\n",
       "    }\n",
       "\n",
       "    .dataframe tbody tr th {\n",
       "        vertical-align: top;\n",
       "    }\n",
       "\n",
       "    .dataframe thead th {\n",
       "        text-align: right;\n",
       "    }\n",
       "</style>\n",
       "<table border=\"1\" class=\"dataframe\">\n",
       "  <thead>\n",
       "    <tr style=\"text-align: right;\">\n",
       "      <th></th>\n",
       "      <th>task_completed</th>\n",
       "      <th>employee_experience</th>\n",
       "      <th>training_level4</th>\n",
       "      <th>training_level6</th>\n",
       "      <th>training_level8</th>\n",
       "    </tr>\n",
       "  </thead>\n",
       "  <tbody>\n",
       "    <tr>\n",
       "      <th>70</th>\n",
       "      <td>0</td>\n",
       "      <td>5.60</td>\n",
       "      <td>1</td>\n",
       "      <td>0</td>\n",
       "      <td>0</td>\n",
       "    </tr>\n",
       "    <tr>\n",
       "      <th>71</th>\n",
       "      <td>0</td>\n",
       "      <td>5.90</td>\n",
       "      <td>0</td>\n",
       "      <td>0</td>\n",
       "      <td>1</td>\n",
       "    </tr>\n",
       "    <tr>\n",
       "      <th>72</th>\n",
       "      <td>0</td>\n",
       "      <td>6.40</td>\n",
       "      <td>0</td>\n",
       "      <td>1</td>\n",
       "      <td>0</td>\n",
       "    </tr>\n",
       "    <tr>\n",
       "      <th>73</th>\n",
       "      <td>0</td>\n",
       "      <td>3.80</td>\n",
       "      <td>1</td>\n",
       "      <td>0</td>\n",
       "      <td>0</td>\n",
       "    </tr>\n",
       "    <tr>\n",
       "      <th>74</th>\n",
       "      <td>0</td>\n",
       "      <td>5.30</td>\n",
       "      <td>1</td>\n",
       "      <td>0</td>\n",
       "      <td>0</td>\n",
       "    </tr>\n",
       "  </tbody>\n",
       "</table>\n",
       "</div>"
      ],
      "text/plain": [
       "    task_completed  employee_experience  training_level4  training_level6  \\\n",
       "70               0                 5.60                1                0   \n",
       "71               0                 5.90                0                0   \n",
       "72               0                 6.40                0                1   \n",
       "73               0                 3.80                1                0   \n",
       "74               0                 5.30                1                0   \n",
       "\n",
       "    training_level8  \n",
       "70                0  \n",
       "71                1  \n",
       "72                0  \n",
       "73                0  \n",
       "74                0  "
      ]
     },
     "execution_count": 43,
     "metadata": {},
     "output_type": "execute_result"
    }
   ],
   "source": [
    "# Read in data - see what we're dealing with\n",
    "df = pd.read_csv('SystemAdministrators.csv')\n",
    "df.tail()"
   ]
  },
  {
   "cell_type": "markdown",
   "id": "aa0a5049",
   "metadata": {},
   "source": [
    "> **Initial Evaluation: Notes on Findings**<br><br>\n",
    ">**<span style=\"color:red\"><b>Observations:**<br>\n",
    ">>- **There are 75 records. 4 features which consist of 3 categorical variables and 1 numerical variable (not including target variables which is 'task_completed')**\n",
    ">>- **Target: label (1 if task has been completed, 0 task has not been completed)**<br><br>\n",
    "\n",
    ">[Go to Data Prep Outline](#data-prep)"
   ]
  },
  {
   "cell_type": "markdown",
   "id": "4643cc4b",
   "metadata": {},
   "source": [
    "> **Initial Cleanup - dupes, missing values** <a class=\"anchor\" id=\"missing-values\"></a>"
   ]
  },
  {
   "cell_type": "markdown",
   "id": "ec15945d",
   "metadata": {},
   "source": [
    "> **Initial Cleanup: Summary of Actions**<br><br>\n",
    "No missing values or dupes\n",
    "\n",
    ">[Go to Data Prep Outline](#data-prep)"
   ]
  },
  {
   "cell_type": "markdown",
   "id": "95f0957d",
   "metadata": {},
   "source": [
    "> **Outlier Detection & Treatment** <a class=\"anchor\" id=\"outliers\"></a>"
   ]
  },
  {
   "cell_type": "markdown",
   "id": "248ec697",
   "metadata": {},
   "source": [
    "> **Outlier Detection: Notes/Summary of Actions**<br>\n",
    "<br>\n",
    ">**Note:**<br>\n",
    "For me there is no need to check outliers for the categorical variables. So, I will check for the numerical variable feature\n",
    "which is employee_experience\n",
    "\n",
    ">[Go to Data Prep Outline](#data-prep)\n",
    "---"
   ]
  },
  {
   "cell_type": "code",
   "execution_count": 58,
   "id": "742c43ea",
   "metadata": {},
   "outputs": [
    {
     "data": {
      "text/plain": [
       "<AxesSubplot:xlabel='employee_experience'>"
      ]
     },
     "execution_count": 58,
     "metadata": {},
     "output_type": "execute_result"
    },
    {
     "data": {
      "image/png": "[encoded data removed]",
      "text/plain": [
       "<Figure size 432x288 with 1 Axes>"
      ]
     },
     "metadata": {
      "needs_background": "light"
     },
     "output_type": "display_data"
    }
   ],
   "source": [
    "# Using this instead of histogram to see the outliers clearer \n",
    "sns.boxplot(df['employee_experience']) "
   ]
  },
  {
   "cell_type": "markdown",
   "id": "d94239ba",
   "metadata": {},
   "source": [
    "### <span style=\"color:red\"><b>NOTE:<br>\n",
    "I found some outliers which is the experiences more than 12 years. However, this is not an issue to focus right now so, I will ignore these outliers just for this problem set."
   ]
  },
  {
   "cell_type": "markdown",
   "id": "4f588388",
   "metadata": {},
   "source": [
    "> **Feature Selection** <a class=\"anchor\" id=\"feature-selection\"></a>\n",
    "<br>\n",
    "\n",
    ">**To Do:**<br>\n",
    "> 1. Include everything<br>"
   ]
  },
  {
   "cell_type": "markdown",
   "id": "a93ea4e7",
   "metadata": {},
   "source": [
    "\n",
    ">[Go to Data Prep Outline](#data-prep)"
   ]
  },
  {
   "cell_type": "markdown",
   "id": "cb9fd6ad",
   "metadata": {},
   "source": [
    "> **Data Partitioning** <a class=\"anchor\" id=\"data-split\"></a>\n",
    "<br>\n",
    ">To Do:<br>\n",
    ">1. Put all potential predictor variables into new object called 'X'\n",
    ">2. Put target variable in new object called 'y'\n",
    ">3. Partition data into training set and testing set<br>\n",
    "\n",
    ">This is simple for now - may need to add more sampling complexity in future\n"
   ]
  },
  {
   "cell_type": "code",
   "execution_count": 44,
   "id": "b1d4c845",
   "metadata": {},
   "outputs": [],
   "source": [
    "target = ['task_completed']\n",
    "\n",
    "X = df.drop(target,axis=1)\n",
    "y = df[target]\n",
    "\n",
    "# Split data\n",
    "X_train,X_test,y_train,y_test = train_test_split(X,y, test_size=0.3,random_state=23)\n"
   ]
  },
  {
   "cell_type": "code",
   "execution_count": 45,
   "id": "2936ed2a",
   "metadata": {},
   "outputs": [
    {
     "data": {
      "text/plain": [
       "task_completed   0.22\n",
       "dtype: float64"
      ]
     },
     "execution_count": 45,
     "metadata": {},
     "output_type": "execute_result"
    }
   ],
   "source": [
    "y_test.sum()/len(y_test)"
   ]
  },
  {
   "cell_type": "code",
   "execution_count": 46,
   "id": "87bf7fda",
   "metadata": {},
   "outputs": [
    {
     "data": {
      "text/plain": [
       "task_completed   0.19\n",
       "dtype: float64"
      ]
     },
     "execution_count": 46,
     "metadata": {},
     "output_type": "execute_result"
    }
   ],
   "source": [
    "y_train.sum()/len(y_train)"
   ]
  },
  {
   "cell_type": "markdown",
   "id": "b2de40ed",
   "metadata": {},
   "source": [
    "### <span style=\"color:red\"><b>NOTE: <br> \n",
    "**Choose random_state= 23** due to the fact that this data set has too little data and can easily cause some bias once performing any prediction. After randomly picking this number, the y_test ratio is relatively close to y_train ratio compare to other random_state number. Therefore, I pick this random_state number as I assume it causes less bias.   "
   ]
  },
  {
   "cell_type": "markdown",
   "id": "49033367",
   "metadata": {},
   "source": [
    ">[Go to Data Prep Outline](#data-prep)\n",
    "---"
   ]
  },
  {
   "cell_type": "markdown",
   "id": "174ddce5",
   "metadata": {},
   "source": [
    "> **Data Normalization** <a class=\"anchor\" id=\"normalization\"></a>\n",
    "<br><br>\n",
    ">**Note:**<br>\n",
    ">We do this AFTER splitting the data because we only want to use summary stats<br>\n",
    ">from the TRAINING data to normalize BOTH TRAIN and TEST data<br>\n",
    "<br><br>\n",
    ">OPTIONAL - though it is a good idea to get in the habit of doing this when working with the kNN classifier"
   ]
  },
  {
   "cell_type": "code",
   "execution_count": 59,
   "id": "66f3c8ca",
   "metadata": {},
   "outputs": [],
   "source": [
    "# Normalize predictor variables using Z-Scores.\n",
    "# Use means and standard deviations of features as calculated in the TRAINING DATA\n",
    "# New values are centered at 0.  Values reflect the number of standard deviations\n",
    "# each record is above or below the mean.\n",
    "\n",
    "features_means = X_train.mean()\n",
    "features_std = X_train.std()\n",
    "\n",
    "X_train = (X_train - features_means)/features_std\n",
    "X_test = (X_test - features_means)/features_std"
   ]
  },
  {
   "cell_type": "markdown",
   "id": "29416a63",
   "metadata": {},
   "source": [
    ">[Go to Data Prep Outline](#data-prep)\n",
    "---"
   ]
  },
  {
   "cell_type": "markdown",
   "id": "bd7b9e58",
   "metadata": {},
   "source": [
    "# 5. Machine Learning <a class=\"anchor\" id=\"ml-model\"></a>\n",
    "\n",
    "- [X] [kNN](#first-model)\n",
    "- [X] [Logistic Model](#second-model)\n",
    "- [ ] [Performance Evaluation](#third-model)\n",
    "\n",
    "\n",
    "* [Go to Top](#table-of-content)"
   ]
  },
  {
   "cell_type": "markdown",
   "id": "20885a25",
   "metadata": {},
   "source": [
    "> **kNN** <a class=\"anchor\" id=\"first-model\"></a>\n",
    "<br>\n",
    ">Instructions:<br>\n",
    ">1. Fit numerous kNN models using different values for k. <br>\n",
    ">2. Choose the \"best\" value for \"k\" based on Accuracy"
   ]
  },
  {
   "cell_type": "code",
   "execution_count": 48,
   "id": "095e3266",
   "metadata": {},
   "outputs": [
    {
     "data": {
      "text/html": [
       "<div>\n",
       "<style scoped>\n",
       "    .dataframe tbody tr th:only-of-type {\n",
       "        vertical-align: middle;\n",
       "    }\n",
       "\n",
       "    .dataframe tbody tr th {\n",
       "        vertical-align: top;\n",
       "    }\n",
       "\n",
       "    .dataframe thead th {\n",
       "        text-align: right;\n",
       "    }\n",
       "</style>\n",
       "<table border=\"1\" class=\"dataframe\">\n",
       "  <thead>\n",
       "    <tr style=\"text-align: right;\">\n",
       "      <th></th>\n",
       "      <th>k</th>\n",
       "      <th>Accuracy</th>\n",
       "    </tr>\n",
       "  </thead>\n",
       "  <tbody>\n",
       "    <tr>\n",
       "      <th>0</th>\n",
       "      <td>1</td>\n",
       "      <td>0.70</td>\n",
       "    </tr>\n",
       "    <tr>\n",
       "      <th>1</th>\n",
       "      <td>3</td>\n",
       "      <td>0.83</td>\n",
       "    </tr>\n",
       "    <tr>\n",
       "      <th>2</th>\n",
       "      <td>5</td>\n",
       "      <td>0.78</td>\n",
       "    </tr>\n",
       "    <tr>\n",
       "      <th>3</th>\n",
       "      <td>7</td>\n",
       "      <td>0.87</td>\n",
       "    </tr>\n",
       "    <tr>\n",
       "      <th>4</th>\n",
       "      <td>9</td>\n",
       "      <td>0.83</td>\n",
       "    </tr>\n",
       "    <tr>\n",
       "      <th>5</th>\n",
       "      <td>11</td>\n",
       "      <td>0.83</td>\n",
       "    </tr>\n",
       "    <tr>\n",
       "      <th>6</th>\n",
       "      <td>13</td>\n",
       "      <td>0.87</td>\n",
       "    </tr>\n",
       "    <tr>\n",
       "      <th>7</th>\n",
       "      <td>15</td>\n",
       "      <td>0.78</td>\n",
       "    </tr>\n",
       "    <tr>\n",
       "      <th>8</th>\n",
       "      <td>17</td>\n",
       "      <td>0.78</td>\n",
       "    </tr>\n",
       "    <tr>\n",
       "      <th>9</th>\n",
       "      <td>19</td>\n",
       "      <td>0.78</td>\n",
       "    </tr>\n",
       "    <tr>\n",
       "      <th>10</th>\n",
       "      <td>21</td>\n",
       "      <td>0.78</td>\n",
       "    </tr>\n",
       "  </tbody>\n",
       "</table>\n",
       "</div>"
      ],
      "text/plain": [
       "     k  Accuracy\n",
       "0    1      0.70\n",
       "1    3      0.83\n",
       "2    5      0.78\n",
       "3    7      0.87\n",
       "4    9      0.83\n",
       "5   11      0.83\n",
       "6   13      0.87\n",
       "7   15      0.78\n",
       "8   17      0.78\n",
       "9   19      0.78\n",
       "10  21      0.78"
      ]
     },
     "execution_count": 48,
     "metadata": {},
     "output_type": "execute_result"
    }
   ],
   "source": [
    "# 1. train a classifier for different values of k\n",
    "results = []\n",
    "for k in [1,3,5,7,9,11,13,15,17,19,21]:\n",
    "    knn = KNeighborsClassifier(n_neighbors=k)\n",
    "    knn.fit(X_train,y_train.values.ravel())\n",
    "    \n",
    "    # Get predicted class\n",
    "    y_pred_class = knn.predict(X_test)\n",
    "    \n",
    "    # Put Accuracy Score in results object\n",
    "    results.append({'k':k,\n",
    "                    'Accuracy':metrics.accuracy_score(y_test,y_pred_class)\n",
    "                   }\n",
    "                  )\n",
    "# Put results from above into a Pandas Dataframe\n",
    "results_df = pd.DataFrame(results)\n",
    "results_df"
   ]
  },
  {
   "cell_type": "markdown",
   "id": "440c5380",
   "metadata": {},
   "source": [
    ">**Decision:**<br>\n",
    "Based on the results above, I will set my number of neighbors (k) to 7 as this is the lowest value that achieves the highest accuracy value<br>\n",
    "\n",
    " ### <span style=\"color:red\"><b>NOTE: The higher number of k, the more underfitting issue to arise.<b>\n",
    "\n",
    ">**Re-run kNN using the value selected above:**<br>\n",
    "For this final run of kNN, we will produce a table of performance measures across a range of probability threshold values"
   ]
  },
  {
   "cell_type": "code",
   "execution_count": 49,
   "id": "ed161ba7",
   "metadata": {
    "scrolled": false
   },
   "outputs": [
    {
     "name": "stdout",
     "output_type": "stream",
     "text": [
      "Training data Accuracy: 0.87\n",
      "Testing data Accuracy: 0.87\n"
     ]
    }
   ],
   "source": [
    "knn = KNeighborsClassifier(n_neighbors=7)\n",
    "knn.fit(X_train,y_train.values.ravel())\n",
    "\n",
    "# Let's do a quick check to see if we have to worry about problems of overfitting.\n",
    "# Remember!  Small values for \"k\" in kNN tend to lead to overfitting.\n",
    "# Large value for \"k\" in kNN tend to produce underfit models\n",
    "y_train_pred_class = knn.predict(X_train)\n",
    "y_test_pred_class = knn.predict(X_test)\n",
    "\n",
    "print('Training data Accuracy:', metrics.accuracy_score(y_train,y_train_pred_class).round(2))\n",
    "print('Testing data Accuracy:', metrics.accuracy_score(y_test,y_test_pred_class).round(2))\n"
   ]
  },
  {
   "cell_type": "markdown",
   "id": "16ad9731",
   "metadata": {},
   "source": [
    "### <span style=\"color:red\"><b>NOTE: <br> No over+underfitted problem as both training and testing data have the same accuracy score ==> deployable model"
   ]
  },
  {
   "cell_type": "markdown",
   "id": "10a1e95b",
   "metadata": {},
   "source": [
    ">**Logistic Model:**<br>\n",
    ">Let's produce the same table above but this time using a Logistic Model\n"
   ]
  },
  {
   "cell_type": "code",
   "execution_count": 50,
   "id": "7cd6cb0d",
   "metadata": {},
   "outputs": [
    {
     "name": "stdout",
     "output_type": "stream",
     "text": [
      "Training data Accuracy: 0.88\n",
      "Testing data Accuracy: 0.91\n"
     ]
    }
   ],
   "source": [
    "lr_model = LogisticRegression()\n",
    "lr_model.fit(X_train,y_train.values.ravel())\n",
    "\n",
    "# Let's do a quick check to see if we have to worry about problems of overfitting.\n",
    "y_train_pred_class = lr_model.predict(X_train)\n",
    "y_test_pred_class = lr_model.predict(X_test)\n",
    "\n",
    "print('Training data Accuracy:', metrics.accuracy_score(y_train,y_train_pred_class).round(2))\n",
    "print('Testing data Accuracy:', metrics.accuracy_score(y_test,y_test_pred_class).round(2))"
   ]
  },
  {
   "cell_type": "markdown",
   "id": "b3ca37e4",
   "metadata": {},
   "source": [
    ">**Winning Model:**<br>\n",
    "We need to quickly decide which modeling framework to go forward with<br>\n",
    "To keep this simple - I'm going to use AUC and will choose the model that gives us the highest value"
   ]
  },
  {
   "cell_type": "code",
   "execution_count": 51,
   "id": "6e8be7b2",
   "metadata": {},
   "outputs": [
    {
     "data": {
      "image/png": "[encoded data removed]",
      "text/plain": [
       "<Figure size 432x288 with 1 Axes>"
      ]
     },
     "metadata": {
      "needs_background": "light"
     },
     "output_type": "display_data"
    },
    {
     "data": {
      "image/png": "[encoded data removed]",
      "text/plain": [
       "<Figure size 432x288 with 1 Axes>"
      ]
     },
     "metadata": {
      "needs_background": "light"
     },
     "output_type": "display_data"
    }
   ],
   "source": [
    "# ROC curve for kNN\n",
    "metrics.plot_roc_curve(knn,X_test,y_test)\n",
    "plt.show()\n",
    "\n",
    "# ROC curve for Logistic Model\n",
    "metrics.plot_roc_curve(lr_model,X_test,y_test)\n",
    "plt.show()"
   ]
  },
  {
   "cell_type": "markdown",
   "id": "19e1ecb5",
   "metadata": {},
   "source": [
    ">### <span style=\"color:red\"><b>**Decision Point:**<br>\n",
    "**The winner is our Logistic Model!!!** This is because AUC is highest for our Logistic Model (0.96 vs. 0.94) so I will use that model to further evaluate probability thresholds and corresponding performance measures"
   ]
  },
  {
   "cell_type": "code",
   "execution_count": 52,
   "id": "4663f4b6",
   "metadata": {
    "scrolled": true
   },
   "outputs": [
    {
     "data": {
      "text/html": [
       "<div>\n",
       "<style scoped>\n",
       "    .dataframe tbody tr th:only-of-type {\n",
       "        vertical-align: middle;\n",
       "    }\n",
       "\n",
       "    .dataframe tbody tr th {\n",
       "        vertical-align: top;\n",
       "    }\n",
       "\n",
       "    .dataframe thead th {\n",
       "        text-align: right;\n",
       "    }\n",
       "</style>\n",
       "<table border=\"1\" class=\"dataframe\">\n",
       "  <thead>\n",
       "    <tr style=\"text-align: right;\">\n",
       "      <th></th>\n",
       "      <th>threshold</th>\n",
       "      <th>TP</th>\n",
       "      <th>TN</th>\n",
       "      <th>FP</th>\n",
       "      <th>FN</th>\n",
       "      <th>Precision</th>\n",
       "      <th>Recall</th>\n",
       "      <th>Accuracy</th>\n",
       "      <th>MSE</th>\n",
       "    </tr>\n",
       "  </thead>\n",
       "  <tbody>\n",
       "    <tr>\n",
       "      <th>0</th>\n",
       "      <td>0.00</td>\n",
       "      <td>5</td>\n",
       "      <td>0</td>\n",
       "      <td>18</td>\n",
       "      <td>0</td>\n",
       "      <td>0.22</td>\n",
       "      <td>1.00</td>\n",
       "      <td>0.22</td>\n",
       "      <td>0.78</td>\n",
       "    </tr>\n",
       "    <tr>\n",
       "      <th>1</th>\n",
       "      <td>0.10</td>\n",
       "      <td>5</td>\n",
       "      <td>10</td>\n",
       "      <td>8</td>\n",
       "      <td>0</td>\n",
       "      <td>0.39</td>\n",
       "      <td>1.00</td>\n",
       "      <td>0.65</td>\n",
       "      <td>0.35</td>\n",
       "    </tr>\n",
       "    <tr>\n",
       "      <th>2</th>\n",
       "      <td>0.20</td>\n",
       "      <td>5</td>\n",
       "      <td>14</td>\n",
       "      <td>4</td>\n",
       "      <td>0</td>\n",
       "      <td>0.56</td>\n",
       "      <td>1.00</td>\n",
       "      <td>0.83</td>\n",
       "      <td>0.17</td>\n",
       "    </tr>\n",
       "    <tr>\n",
       "      <th>3</th>\n",
       "      <td>0.30</td>\n",
       "      <td>5</td>\n",
       "      <td>16</td>\n",
       "      <td>2</td>\n",
       "      <td>0</td>\n",
       "      <td>0.71</td>\n",
       "      <td>1.00</td>\n",
       "      <td>0.91</td>\n",
       "      <td>0.09</td>\n",
       "    </tr>\n",
       "    <tr>\n",
       "      <th>4</th>\n",
       "      <td>0.40</td>\n",
       "      <td>4</td>\n",
       "      <td>16</td>\n",
       "      <td>2</td>\n",
       "      <td>1</td>\n",
       "      <td>0.67</td>\n",
       "      <td>0.80</td>\n",
       "      <td>0.87</td>\n",
       "      <td>0.13</td>\n",
       "    </tr>\n",
       "    <tr>\n",
       "      <th>5</th>\n",
       "      <td>0.50</td>\n",
       "      <td>3</td>\n",
       "      <td>18</td>\n",
       "      <td>0</td>\n",
       "      <td>2</td>\n",
       "      <td>1.00</td>\n",
       "      <td>0.60</td>\n",
       "      <td>0.91</td>\n",
       "      <td>0.09</td>\n",
       "    </tr>\n",
       "    <tr>\n",
       "      <th>6</th>\n",
       "      <td>0.60</td>\n",
       "      <td>3</td>\n",
       "      <td>18</td>\n",
       "      <td>0</td>\n",
       "      <td>2</td>\n",
       "      <td>1.00</td>\n",
       "      <td>0.60</td>\n",
       "      <td>0.91</td>\n",
       "      <td>0.09</td>\n",
       "    </tr>\n",
       "    <tr>\n",
       "      <th>7</th>\n",
       "      <td>0.70</td>\n",
       "      <td>3</td>\n",
       "      <td>18</td>\n",
       "      <td>0</td>\n",
       "      <td>2</td>\n",
       "      <td>1.00</td>\n",
       "      <td>0.60</td>\n",
       "      <td>0.91</td>\n",
       "      <td>0.09</td>\n",
       "    </tr>\n",
       "    <tr>\n",
       "      <th>8</th>\n",
       "      <td>0.80</td>\n",
       "      <td>2</td>\n",
       "      <td>18</td>\n",
       "      <td>0</td>\n",
       "      <td>3</td>\n",
       "      <td>1.00</td>\n",
       "      <td>0.40</td>\n",
       "      <td>0.87</td>\n",
       "      <td>0.13</td>\n",
       "    </tr>\n",
       "    <tr>\n",
       "      <th>9</th>\n",
       "      <td>0.90</td>\n",
       "      <td>1</td>\n",
       "      <td>18</td>\n",
       "      <td>0</td>\n",
       "      <td>4</td>\n",
       "      <td>1.00</td>\n",
       "      <td>0.20</td>\n",
       "      <td>0.83</td>\n",
       "      <td>0.17</td>\n",
       "    </tr>\n",
       "    <tr>\n",
       "      <th>10</th>\n",
       "      <td>1.00</td>\n",
       "      <td>0</td>\n",
       "      <td>18</td>\n",
       "      <td>0</td>\n",
       "      <td>5</td>\n",
       "      <td>0.00</td>\n",
       "      <td>0.00</td>\n",
       "      <td>0.78</td>\n",
       "      <td>0.22</td>\n",
       "    </tr>\n",
       "  </tbody>\n",
       "</table>\n",
       "</div>"
      ],
      "text/plain": [
       "    threshold  TP  TN  FP  FN  Precision  Recall  Accuracy  MSE\n",
       "0        0.00   5   0  18   0       0.22    1.00      0.22 0.78\n",
       "1        0.10   5  10   8   0       0.39    1.00      0.65 0.35\n",
       "2        0.20   5  14   4   0       0.56    1.00      0.83 0.17\n",
       "3        0.30   5  16   2   0       0.71    1.00      0.91 0.09\n",
       "4        0.40   4  16   2   1       0.67    0.80      0.87 0.13\n",
       "5        0.50   3  18   0   2       1.00    0.60      0.91 0.09\n",
       "6        0.60   3  18   0   2       1.00    0.60      0.91 0.09\n",
       "7        0.70   3  18   0   2       1.00    0.60      0.91 0.09\n",
       "8        0.80   2  18   0   3       1.00    0.40      0.87 0.13\n",
       "9        0.90   1  18   0   4       1.00    0.20      0.83 0.17\n",
       "10       1.00   0  18   0   5       0.00    0.00      0.78 0.22"
      ]
     },
     "execution_count": 52,
     "metadata": {},
     "output_type": "execute_result"
    }
   ],
   "source": [
    "class_perf_measures(lr_model,X_test,y_test)"
   ]
  },
  {
   "cell_type": "markdown",
   "id": "a35d6258",
   "metadata": {},
   "source": [
    "**Roughly translation** <br>\n",
    "FP= predicted yes while actual no ==> predicted tasks completion while actually that employee task is not completed <br>\n",
    "FN= predicted no while actual yes ==> predicted tasks not completed while actually it is"
   ]
  },
  {
   "cell_type": "markdown",
   "id": "376bbc98",
   "metadata": {},
   "source": [
    "## <span style=\"color:red\"><b> **NOTE:**</span> \n",
    "> For this particular case, in my opinion, The costliest that it can be is on \n",
    "<span style=\"color:red\"><b> **the False Positive (FP)** </span> \n",
    ">side. This is because if the client which is company's goal are to maximize their benefit, to predict the task is finish while in fact it is not, will put the company in a tough spot since it may not achieve its goal as expected. For example, if saleperson are predicted to achieve target although they do not, soon their company will definitly in deficit for sure as the revenue keeps decreasing without anyone knows the reason behind it. Therefore, this mistake has a massive impact and has to be carefully considered not to let it happen if possible.  \n",
    "    \n",
    "\n",
    "> However, on <span style=\"color:red\"><b> **the False Negative (FN)** </span> side, there are downsides for this mistake as well. To predict that one's has not completed the job why infact, s/he does, in short term it can cause a frustration to that employee since it considers a part of his/her performance. S/he will have to waste time declaring the truth to hr department. In long-run, if this keeps happening, it will create enough unsatisfaction to employees that make them decide to resign from the company. If this situation happens, the company will surely have bad reputation.    \n",
    "    "
   ]
  },
  {
   "cell_type": "markdown",
   "id": "fa8d1097",
   "metadata": {},
   "source": [
    "## <span style=\"color:red\"><b>Preferable ranking of choices:</span> \n",
    "    \n",
    "**1. Prob Threshold = 0.5, 0.6, 0.7**: \n",
    "    \n",
    "> These 3 ranges of thresholds have the same values of TP, TN, FP, FN, Precision, Recall, Accuracy and MSE.\n",
    "    \n",
    "> Probabilitiy at 0.5, 0.6 or 0.7 implies that a predicted probability must greater or equal than 50%, 60% or 70%, respectively for that record to be assigned as a completed task.\n",
    "\n",
    "- From median to relatively high threshold of 50-60-70% which required to predict positive outcomes, compare to low threshold, I am expected to see lower positive predictions. In this case 'positive' means 'task has been completed' and from the range I choose, these 3 thresholds have the same true positive which is 3 to be exact. Also, I have noticed a lot of true negative(TN) which do make sense as the higher percentage criteria to distinguish the completion of the task, the higher number of catching the tasks that are not completed. <br>  \n",
    "    \n",
    "\n",
    "- The reasons for choosing these thresholds are as mentioning, I think that the False Positive (FP) is what cost more compared to the false negative. Although the ideal threshold would be where the FP and FN= 0 as I want the model to be 100% accurate, it is impossible! Therefore, I will choose a threshold which has the lowest FP and FN as they can be (but will mainly hold on to FP). Among all of the threshold ranges, I found out that these 3 thresholds fit my criteria. They all have 0 False positive together with low false negative of 2 which are a proper value for serving the company objective. Morover, they all have the highest percent accuracy of 91% compare to others while at the same time having the lowest mean square errors of 0.09. <br>\n",
    "\n",
    "    \n",
    "- Apart from that, 100% of precision relatively helps eliminate the cost of the false positive (which I consider is the costliest) as it implies that out of all the employees in the record who my model predicted to have completed the task, 100% of them in fact, actually have completed their task. Hence, to be able to predict that will help save clients' revenue as they will know for sure who really finish they work. So, they can achieve their revenue goal and prevent companies' loss. For example, as mentioned above, if the sales company predicted and concluded that their salesperson achieve their sales' target, if they infact, do not, it will cause less revenue than it actually is, by that, the additional wrong prediction will create less revenue which can lead to deficit and risk of company's bankruptcy. <br>\n",
    "    \n",
    "    \n",
    "- However, I have to consider the false negative (FN) value and its cost as well. from what I understand, 60% of recall means that means that 4 of every 10 employees in reality are missed by our model and 4 labeled as not completing their tasks. To predict that one's has not completed the job why infact, s/he does, in short term it can cause a frustration to that employee since it considers a part of his/her performance. S/he will have to waste time declaring the truth to hr department. In long-run, if this keeps happening, it will create enough unsatisfaction to employees that make them decide to resign from the company. If this situation happens, the company will surely have bad reputation.    \n",
    "    \n",
    "    \n",
    "- Given our assumptions above - this is the first set of thresholds that I can stick on any of them as the reasons informed above."
   ]
  },
  {
   "cell_type": "markdown",
   "id": "357e4d52",
   "metadata": {},
   "source": [
    "**2. Prob Threshold = 0.3**:\n",
    "\n",
    "> Probabilitiy at 0.3 implies that a predicted probability must greater or equal than 30% for that record to be assigned as a completed task.\n",
    "\n",
    "- In this case 'positive' means 'task has been completed'. From this relatively low threshold of 30% which required to predict positive outcomes, I am expected to see many of positive predictions which is make sense as this 30% threshold has 5 of total positive (highest number in the table). Also, I have noticed 0 of true negative(TN) which do make sense as the lower percentage criteria to distinguish the completion of the task, the lower number of catching the tasks that are not completed. <br>  \n",
    "    \n",
    "\n",
    "- Even though personally I think that the False Positive (FP) will cost more compared to the False Negative (FN). However, the fact that the false negative (FN) will also lead to high cost as well. To predict that one's has not completed the job why infact, s/he does, in short term it can cause a frustration to that employee since it considers a part of his/her performance. S/he will have to waste time declaring the truth to hr department. In long-run, if this keeps happening, it will create enough unsatisfaction to employees that make them decide to resign from the company. If this situation happens, the company will surely lost its reputation. According to the impact, this 30% threshold is the perfect fit if we consider that FN is the costliest mistake that the model can make. <br>\n",
    "\n",
    "\n",
    "- From the information, if we choose this threshold to identify the completed task outcome, it also means that we will focus heavily on FN and therefore, a kind of mistakes that we are making will be is the False Positive (FP) side. There are FP value of 2 and 71% of precision which refers to aprroximately 3 of every 10 employees in reality are missed by our model and roughly 3 labeled as completing their tasks while in fact they actually do not.   \n",
    "\n",
    "  \n",
    "- Given our assumptions above - Although it is subjective and I do not think any threshold is better as it depends on which costs more from the mistake, I will rely on the first set of threshold as it tend to cause quicker destruction to our client comapre to this 0.3 threshold. This is because it will take time for employee to be furious enough to decide quitting from the company. Therefore, by the time this mistake will take its toll, we might realize and do something to fix this before the worse case scenario occurs. \n"
   ]
  },
  {
   "cell_type": "markdown",
   "id": "d288c848",
   "metadata": {},
   "source": [
    "**3. Prob Threshold = 0.8**:\n",
    "\n",
    "> Probabilitiy at 0.8 implies that a predicted probability must greater or equal than 80% for that record to be assigned as a completed task.\n",
    "\n",
    "- In this case 'positive' means 'task has been completed'. From this high threshold of 80% which required to predict positive outcomes, I am expected to see very little of positive predictions which is align with the result as this 80% threshold has 2 of total positive. Also, I have noticed 18 of true negative(TN) which do make sense as the higher percentage criteria to distinguish the completion of the task, the higher number of catching the tasks that are not completed. <br>  \n",
    "    \n",
    "\n",
    "- In this particular threshold which I consider to be my 3rd rank, no error or mistake has found in the False Positive side (0 in FP). That means no tasks have been predicted as completed while actually it is not. However, there still is an error on the False Negative side which contains the value of 3 to be exact. This means that our model predicted tasks as not completed while actually it does. Hence, this threshold of 80% will change the error to the other way around from the 2nd rank I mentioned earlier. \n",
    "\n",
    "- From the information, if we choose this threshold to identify the completed task outcome, it also means that we will focus heavily on FP and therefore, a kind of mistakes that we are making will be is the False Negative (FN) side. There are FN value of 3 and 40% of recalls which refers to aprroximately 6 of every 10 employees in reality are missed by our model and roughly 6 labeled as not completing their tasks while in fact they actually finish their tasks.   \n",
    "\n",
    "  \n",
    "- Given our assumptions above - it is pretty obvious that this 3rd threshold has more errors, less accuracy (87% to be exact), and higher error of 0.13 Mean squared-error. I think the first 2 rank are better option to use their thresholds more than this 80% threshold as they making less mistake (less FN, FP together with 91% accuracy and 0.09 MSE!) and therefore, will cost less than this 3rd threshold. "
   ]
  },
  {
   "cell_type": "markdown",
   "id": "468f52ad",
   "metadata": {},
   "source": [
    "**4. Based on my careful consideration of probability threshold options and the corresponding speculated risks/costs - which probability threshold do I recommend going forward with?**\n",
    "\n",
    "- I will recommend going forward with 50%, 60% and 70% as stated before. I think the costliest that it can be is on the False Positive (FP) side. This is because if the client which is the companies want to maximize their benefit, to predict the task is finish while in fact it is not, will cost so much more. For example, if saleperson are predicted to achieve target although they do not, soon their company will defenitly in deficit for sure. The faster of the FP negative impact makes my decision to depend on the threshold that has the lowest FP while also having high accuracy and low MSE as it can be. These 3 thresholds have the same value in and fit my criteria as well."
   ]
  },
  {
   "cell_type": "markdown",
   "id": "a1189f6d",
   "metadata": {},
   "source": [
    ">[Go to Machine Learning Outline](#ml-model)\n",
    "---"
   ]
  },
  {
   "cell_type": "markdown",
   "id": "26355508",
   "metadata": {},
   "source": [
    "# 5. Deployment of Model <a class=\"anchor\" id=\"model-deployment\"></a>\n",
    "\n",
    "I will deploy all the result I have got into a streamlit website which will help Hr department to be more convenient!  \n",
    "\n",
    "* [Go to Top](#table-of-content)"
   ]
  },
  {
   "cell_type": "markdown",
   "id": "2ff84aeb",
   "metadata": {},
   "source": [
    "###  Future references use (if I want to deploy):\n",
    "**1. Create new object by using Pickle and name it 'classifier' and instantiate it with pickle_out. Name other parameters as whatever that suit the model the most (See all details by running the code first then click shift+tab).** \n",
    "\n",
    "  - Check whether in the same location, is there a file name 'classifer' appears in that location?\n",
    "\n",
    "**NOTE: we do not have to name it as 'classifier'**\n",
    "\n",
    "**2. Dump the building model into 'classifier' by using .dump()**\n",
    "  - For better understanding ==> [LINK](https://docs.python.org/3/library/pickle.html)\n",
    "  - .dump is different from .dumps so be careful!!!\n",
    "\n",
    "**3. Don't forget to pickle_out.close()** \n",
    "  - Question: Can we leave it open without closing? Answer: If for reading purpose, Yes but if for writing purpose, it can cause a missing data later. ==> stackoverflow!!! [LINK](https://stackoverflow.com/questions/66855334/why-cant-i-close-a-pickle-file#:~:text=Will%20it%20be%20a%20big%20deal%20if%20I,file%20open%20for%20writing%20could%20cause%20missing%20data.) <br>\n",
    "  \n",
    "**4. How to add Threshold**\n",
    "  - [LINK](https://www.timvink.nl/streamlit-threshold-app/)"
   ]
  },
  {
   "cell_type": "code",
   "execution_count": 53,
   "id": "edad4455",
   "metadata": {},
   "outputs": [],
   "source": [
    "pickle_out = open('classifier', mode='wb')             # I am creating a new object called pickle_out. This pickle_out \n",
    "                                                       # object will have a file name 'classifier'. This file will have \n",
    "                                                       # a mode of 'wb' which means I am writing to the file (w) in binary\n",
    "                                                       # mode (b).\n",
    "            \n",
    "pickle.dump(lr_model, pickle_out)                      # \".dump()\" is a method of dumping or putting data into the pickle \n",
    "                                                       # object that I created. In this case, I will dump my model which\n",
    "                                                       # is instantiate from the LogisticRegression model that I built and\n",
    "                                                       # check the accuracy out into the \"pickle_out\" object that I just \n",
    "                                                       # created above.\n",
    "                \n",
    "pickle_out.close()                                     # Use \".close()\" method after I have written my python into the \n",
    "                                                       # pickle_out object. "
   ]
  },
  {
   "cell_type": "code",
   "execution_count": 54,
   "id": "69888b8a",
   "metadata": {},
   "outputs": [
    {
     "name": "stdout",
     "output_type": "stream",
     "text": [
      "Overwriting app.py\n"
     ]
    }
   ],
   "source": [
    "%%writefile app.py\n",
    "\n",
    "import pickle\n",
    "import streamlit as st\n",
    "\n",
    "# I decided to add threshold range to let the hr department pick which threshold they would rather \n",
    "# use to predict the outcome!\n",
    "st.title(\"Setting the threshold for our classifier\")\n",
    "threshold = st.slider(\"Threshold\", min_value=0.00, max_value=1.0, step=0.01, value=0.5)\n",
    "\n",
    "pickle_in = open('classifier', 'rb')\n",
    "classifier = pickle.load(pickle_in)\n",
    "\n",
    "@st.cache()\n",
    "\n",
    "# Define the function which will make the prediction using data\n",
    "# inputs from users\n",
    "def prediction(employee_experience, training_level4, \n",
    "               training_level6, training_level8):\n",
    "    \n",
    "    # Make predictions\n",
    "    prediction = classifier.predict(\n",
    "        [[employee_experience, training_level4, training_level6, training_level8]])\n",
    "    \n",
    "    if prediction == 1:\n",
    "        pred = 'This employee will complete her/his/their task'\n",
    "    else:\n",
    "        pred = 'This employee will not complete her/his/their task!'\n",
    "    return pred\n",
    "\n",
    "# This is the main function in which we define our webpage\n",
    "def main():\n",
    "    \n",
    "    # Create input fields\n",
    "    employee_experience = st.number_input(\"Working experience\",\n",
    "                          min_value=0.0,\n",
    "                          max_value=30.0,\n",
    "                          value=6.8,     # setting value that will show up in the website using mean value from the dataset\n",
    "                          step=0.1       # increment by 0.1\n",
    "                         )\n",
    "    training_level4 = st.number_input(\"Has this employee been trained in level 4 training? (Yes= 1, No= 0)\",\n",
    "                                  min_value=0.0,\n",
    "                                  max_value=1.0,\n",
    "                                  value=0.0,\n",
    "                                  step=1.0,\n",
    "                                 )\n",
    "    training_level6 = st.number_input(\"Has this employee been trained in level 6 training? (Yes= 1, No= 0)\",\n",
    "                              min_value=0.0,\n",
    "                              max_value=1.0,\n",
    "                              value=0.0,\n",
    "                              step=1.0\n",
    "                             )\n",
    "\n",
    "    training_level8 = st.number_input(\"Has this employee been trained in level 8 training? (Yes= 1, No= 0)\",\n",
    "                              min_value=0.0,\n",
    "                              max_value=1.0,\n",
    "                              value=0.0,\n",
    "                              step=1.0\n",
    "                             )\n",
    "    result = \"\"\n",
    "    \n",
    "    # When 'Predict' is clicked, make the prediction and store it\n",
    "    if st.button(\"Predict\"):\n",
    "        result = prediction(employee_experience, training_level4, training_level6, training_level8)\n",
    "        st.success(result)\n",
    "        \n",
    "if __name__=='__main__':\n",
    "    main()\n",
    "    "
   ]
  },
  {
   "cell_type": "markdown",
   "id": "73e3e8d5",
   "metadata": {},
   "source": [
    "### <span style=\"color:red\"><b> NOTE: </b></span>\n",
    "As we are now focusing on finding a proper threshold to help eliminate cost of error as much as possible, I decided to add range of thresholds into streamlit. This will allow hr department to pick threshold by themselves. However, I will inform about the best threshold that I think will help hr to maintain their company's objective (either 30%, 50%, 60% or 70%). \n",
    "\n",
    "### Question of curiosity:\n",
    " - Can I show only the best threshold? \n",
    "\n",
    "### <span style=\"color:red\"><b> Warning: This error may show up in streamlit!</b></span>\n",
    "'StreamlitAPIException: All numerical arguments must be of the same type. value has float type. \n",
    "min_value has NoneType type. max_value has NoneType type. step has int type.'\n",
    "\n",
    "### <span style=\"color:red\"><b>Solution:</b></span>\n",
    "####  We can fix this by using the same format type in every input value. For instance, as the input  in working experience has to be float datatype, changing 0 to 0.0 instead in categorical variable input (training_level4, training_level6 and training_level8) to convert integer into float and match with the continuous variable input."
   ]
  },
  {
   "cell_type": "markdown",
   "id": "9036073a",
   "metadata": {},
   "source": [
    "## <span style=\"color:orange\"><b> Checking final result</span>\n",
    "### Try using it by myself first to check how smooth the process is. Check for the error such as words or mathematical typo!</b>"
   ]
  },
  {
   "cell_type": "code",
   "execution_count": 55,
   "id": "ba9c0435",
   "metadata": {},
   "outputs": [
    {
     "name": "stdout",
     "output_type": "stream",
     "text": [
      "^C\n"
     ]
    }
   ],
   "source": [
    "!streamlit run app.py"
   ]
  },
  {
   "cell_type": "code",
   "execution_count": null,
   "id": "f040e781",
   "metadata": {},
   "outputs": [],
   "source": []
  }
 ],
 "metadata": {
  "kernelspec": {
   "display_name": "Python 3 (ipykernel)",
   "language": "python",
   "name": "python3"
  },
  "language_info": {
   "codemirror_mode": {
    "name": "ipython",
    "version": 3
   },
   "file_extension": ".py",
   "mimetype": "text/x-python",
   "name": "python",
   "nbconvert_exporter": "python",
   "pygments_lexer": "ipython3",
   "version": "3.10.9"
  }
 },
 "nbformat": 4,
 "nbformat_minor": 5
}
